{
  "nbformat": 4,
  "nbformat_minor": 0,
  "metadata": {
    "colab": {
      "provenance": []
    },
    "kernelspec": {
      "name": "python3",
      "display_name": "Python 3"
    },
    "language_info": {
      "name": "python"
    }
  },
  "cells": [
    {
      "cell_type": "code",
      "execution_count": null,
      "metadata": {
        "colab": {
          "base_uri": "https://localhost:8080/"
        },
        "id": "FVBH9c0aWFQ_",
        "outputId": "e799f960-ab05-45be-a0dc-eec09ff14bd6"
      },
      "outputs": [
        {
          "output_type": "stream",
          "name": "stdout",
          "text": [
            "Looking in indexes: https://pypi.org/simple, https://us-python.pkg.dev/colab-wheels/public/simple/\n",
            "Collecting pyspark\n",
            "  Downloading pyspark-3.3.2.tar.gz (281.4 MB)\n",
            "\u001b[2K     \u001b[90m━━━━━━━━━━━━━━━━━━━━━━━━━━━━━━━━━━━━━━━\u001b[0m \u001b[32m281.4/281.4 MB\u001b[0m \u001b[31m4.1 MB/s\u001b[0m eta \u001b[36m0:00:00\u001b[0m\n",
            "\u001b[?25h  Preparing metadata (setup.py) ... \u001b[?25l\u001b[?25hdone\n",
            "Collecting py4j==0.10.9.5\n",
            "  Downloading py4j-0.10.9.5-py2.py3-none-any.whl (199 kB)\n",
            "\u001b[2K     \u001b[90m━━━━━━━━━━━━━━━━━━━━━━━━━━━━━━━━━━━━━━\u001b[0m \u001b[32m199.7/199.7 KB\u001b[0m \u001b[31m11.4 MB/s\u001b[0m eta \u001b[36m0:00:00\u001b[0m\n",
            "\u001b[?25hBuilding wheels for collected packages: pyspark\n",
            "  Building wheel for pyspark (setup.py) ... \u001b[?25l\u001b[?25hdone\n",
            "  Created wheel for pyspark: filename=pyspark-3.3.2-py2.py3-none-any.whl size=281824028 sha256=15ffc00f8f603c10be11a8614a807f5429ed8359a15199ed9f41f7d640f5fc43\n",
            "  Stored in directory: /root/.cache/pip/wheels/6c/e3/9b/0525ce8a69478916513509d43693511463c6468db0de237c86\n",
            "Successfully built pyspark\n",
            "Installing collected packages: py4j, pyspark\n",
            "  Attempting uninstall: py4j\n",
            "    Found existing installation: py4j 0.10.9.7\n",
            "    Uninstalling py4j-0.10.9.7:\n",
            "      Successfully uninstalled py4j-0.10.9.7\n",
            "Successfully installed py4j-0.10.9.5 pyspark-3.3.2\n"
          ]
        }
      ],
      "source": [
        "#installing  pyspark library\n",
        "!pip install pyspark"
      ]
    },
    {
      "cell_type": "code",
      "source": [
        "from pyspark.sql import SparkSession"
      ],
      "metadata": {
        "id": "6Vo86E3GXBEd"
      },
      "execution_count": null,
      "outputs": []
    },
    {
      "cell_type": "code",
      "source": [
        "spark = SparkSession.builder.appName('DataFrame').getOrCreate()"
      ],
      "metadata": {
        "id": "NVUvMv7CXNux"
      },
      "execution_count": null,
      "outputs": []
    },
    {
      "cell_type": "markdown",
      "source": [
        "spark"
      ],
      "metadata": {
        "id": "CXsGE-X2Xjqq"
      }
    },
    {
      "cell_type": "code",
      "source": [
        "wordListRdd = spark.sparkContext.textFile(\"/content/drive/MyDrive/spark/word_list-1.txt\")"
      ],
      "metadata": {
        "id": "04V3ikm1XyZt"
      },
      "execution_count": null,
      "outputs": []
    },
    {
      "cell_type": "code",
      "source": [
        "lineWithFiction = wordListRdd.filter( lambda line: \"fiction.txt\" in line)"
      ],
      "metadata": {
        "id": "LHftfj2FYbDl"
      },
      "execution_count": null,
      "outputs": []
    },
    {
      "cell_type": "code",
      "source": [
        "for text in lineWithFiction.collect():\n",
        "  print(\"The line that has fiction.txt in it is: \", text)"
      ],
      "metadata": {
        "colab": {
          "base_uri": "https://localhost:8080/"
        },
        "id": "cGVRczWLZUxt",
        "outputId": "c91b652a-1ccb-4811-aff6-7c663d609a9d"
      },
      "execution_count": null,
      "outputs": [
        {
          "output_type": "stream",
          "name": "stdout",
          "text": [
            "The line that has fiction.txt in it is:  467 current fiction substrings (fiction.txt)\n"
          ]
        }
      ]
    },
    {
      "cell_type": "code",
      "source": [
        "countOf467 = lineWithFiction.filter(lambda line: \"467\" in line).count()\n",
        "print(\"Frequency of 467 in the line that has fiction.txt is \",countOf467)"
      ],
      "metadata": {
        "colab": {
          "base_uri": "https://localhost:8080/"
        },
        "id": "gY2fyqSZZh9B",
        "outputId": "3a3f28d1-d924-4534-c2a0-1902e5312846"
      },
      "execution_count": null,
      "outputs": [
        {
          "output_type": "stream",
          "name": "stdout",
          "text": [
            "Frequency of 467 in the line that has fiction.txt is  1\n"
          ]
        }
      ]
    },
    {
      "cell_type": "markdown",
      "source": [
        "1 B)"
      ],
      "metadata": {
        "id": "v5hklANIdGeB"
      }
    },
    {
      "cell_type": "code",
      "source": [
        "shakespeareRdd = spark.sparkContext.textFile(\"/content/drive/MyDrive/spark/shakespeare-1.txt\")"
      ],
      "metadata": {
        "id": "6W8Rub8VdOgq"
      },
      "execution_count": null,
      "outputs": []
    },
    {
      "cell_type": "code",
      "source": [
        "shakespeareRdd_lc = shakespeareRdd.map(lambda line: line.lower()).collect()"
      ],
      "metadata": {
        "id": "Gnbk9zoch3-v"
      },
      "execution_count": null,
      "outputs": []
    },
    {
      "cell_type": "code",
      "source": [
        "shakespeareRdd_rev = shakespeareRdd_lc[-10:]\n",
        "for text in shakespeareRdd_rev:\n",
        "  print(text)"
      ],
      "metadata": {
        "colab": {
          "base_uri": "https://localhost:8080/"
        },
        "id": "D-6H_H40iTpc",
        "outputId": "b619b658-8ac1-4ef0-c519-379f751e155b"
      },
      "execution_count": null,
      "outputs": [
        {
          "output_type": "stream",
          "name": "stdout",
          "text": [
            "\n",
            "http://www.gutenberg.org/1/0/2/3/10234\n",
            "\n",
            "or filename 24689 would be found at:\n",
            "http://www.gutenberg.org/2/4/6/8/24689\n",
            "\n",
            "an alternative method of locating ebooks:\n",
            "http://www.gutenberg.org/gutindex.all\n",
            "\n",
            "*** end: full license ***\n"
          ]
        }
      ]
    },
    {
      "cell_type": "markdown",
      "source": [
        "1 C)"
      ],
      "metadata": {
        "id": "H8AZvM5o0QGF"
      }
    },
    {
      "cell_type": "code",
      "source": [
        "from pyspark.sql.functions import count"
      ],
      "metadata": {
        "id": "RAk1VtyB0SOV"
      },
      "execution_count": null,
      "outputs": []
    },
    {
      "cell_type": "code",
      "source": [
        "columns = [\"hotel\", \"is_canceled\", \"lead_time\", \"arrival_date_year\", \"arrival_date_month\",\n",
        "           \"arrival_date_week_number\", \"arrival_date_day_of_month\", \"stays_in_weekend_nights\",\n",
        "           \"stays_in_week_nights\", \"adults\", \"children\", \"babies\", \"meal\", \"country\", \n",
        "           \"market_segment\", \"distribution_channel\", \"is_repeated_guest\", \"previous_cancellations\",\n",
        "           \"previous_bookings_not_canceled\", \"reserved_room_type\", \"assigned_room_type\",\n",
        "           \"booking_changes\", \"deposit_type\", \"agent\", \"company\", \"days_in_waiting_list\",\n",
        "           \"customer_type\", \"adr\", \"required_car_parking_spaces\", \"total_of_special_requests\",\n",
        "           \"reservation_status\", \"reservation_status_date\"]"
      ],
      "metadata": {
        "id": "R3RTMo031FmX"
      },
      "execution_count": null,
      "outputs": []
    },
    {
      "cell_type": "code",
      "source": [
        "hotel_dataFrame = spark.read.csv(\"/content/drive/MyDrive/spark/hotel_bookings.csv\", header=True, inferSchema=True)"
      ],
      "metadata": {
        "id": "wL_h3oqB1Unv"
      },
      "execution_count": null,
      "outputs": []
    },
    {
      "cell_type": "code",
      "source": [
        "hotel_dataFrame = hotel_dataFrame.toDF(*columns)"
      ],
      "metadata": {
        "id": "SWfKGPst3XJk"
      },
      "execution_count": null,
      "outputs": []
    },
    {
      "cell_type": "code",
      "source": [
        "parking_requirement_july = hotel_dataFrame.filter((hotel_dataFrame.required_car_parking_spaces >= 1) & \n",
        "                                                  (hotel_dataFrame.arrival_date_year == 2015) & \n",
        "                                                  (hotel_dataFrame.arrival_date_month == 'July')).count()\n",
        "print('The total number of customers who need parking space in july 2015 is ', parking_requirement_july)"
      ],
      "metadata": {
        "colab": {
          "base_uri": "https://localhost:8080/"
        },
        "id": "oefSoY6u3_cB",
        "outputId": "3b6e3205-2d00-4b77-e483-1fd64399a06b"
      },
      "execution_count": null,
      "outputs": [
        {
          "output_type": "stream",
          "name": "stdout",
          "text": [
            "The total number of customers who need parking space in july 2015 is  215\n"
          ]
        }
      ]
    },
    {
      "cell_type": "code",
      "source": [
        "transitedPartyCustomers_august = hotel_dataFrame.filter((hotel_dataFrame[\"arrival_date_year\"] == 2015) & \n",
        "                                                        (hotel_dataFrame[\"arrival_date_month\"] == \"August\") & \n",
        "                                                        (hotel_dataFrame[\"customer_type\"] == \"Transient-Party\")).count()\n",
        "print('The total number of transited party customers in august 2015 is', transitedPartyCustomers_august)"
      ],
      "metadata": {
        "colab": {
          "base_uri": "https://localhost:8080/"
        },
        "id": "ZzszEt--4oU7",
        "outputId": "5d845759-bc91-4331-939a-b016b714ee8c"
      },
      "execution_count": null,
      "outputs": [
        {
          "output_type": "stream",
          "name": "stdout",
          "text": [
            "The total number of transited party customers in august 2015 is 1476\n"
          ]
        }
      ]
    },
    {
      "cell_type": "markdown",
      "source": [
        "3 A)"
      ],
      "metadata": {
        "id": "wL3wXd7f94wC"
      }
    },
    {
      "cell_type": "code",
      "source": [
        "hotelsCount = hotel_dataFrame.select('hotel').distinct().count()\n",
        "print('The total number of distinct hotels in the dataframe are', hotelsCount)"
      ],
      "metadata": {
        "colab": {
          "base_uri": "https://localhost:8080/"
        },
        "id": "QzFl2hBI97ZT",
        "outputId": "26fdc41e-2aaf-4d72-fb9e-a4a7b8a3da93"
      },
      "execution_count": null,
      "outputs": [
        {
          "output_type": "stream",
          "name": "stdout",
          "text": [
            "The total number of distinct hotels in the dataframe are 2\n"
          ]
        }
      ]
    },
    {
      "cell_type": "markdown",
      "source": [
        "3 B)"
      ],
      "metadata": {
        "id": "A5CmoG-5-CoE"
      }
    },
    {
      "cell_type": "code",
      "source": [
        "adultsDataCollection = hotel_dataFrame.filter((hotel_dataFrame.hotel == 'City Hotel') & \n",
        "                       (hotel_dataFrame.arrival_date_month == 'August') & \n",
        "                       (hotel_dataFrame.arrival_date_year == 2015) & \n",
        "                       (hotel_dataFrame.children > 0)).collect()\n",
        "totalAdults = sum(int(item['adults']) for item in adultsDataCollection)\n",
        "print('The total number of adults with children who booked room in City hotel in august 2015  are', totalAdults)"
      ],
      "metadata": {
        "colab": {
          "base_uri": "https://localhost:8080/"
        },
        "id": "PLVdow0S-KfW",
        "outputId": "de948fae-3959-4573-846f-f12f1f4403d3"
      },
      "execution_count": null,
      "outputs": [
        {
          "output_type": "stream",
          "name": "stdout",
          "text": [
            "The total number of adults with children who booked room in City hotel in august 2015 is  188\n"
          ]
        }
      ]
    },
    {
      "cell_type": "markdown",
      "source": [
        "3 C)"
      ],
      "metadata": {
        "id": "mg4LABla-LXm"
      }
    },
    {
      "cell_type": "code",
      "source": [
        "canceledReservations = hotel_dataFrame.filter((hotel_dataFrame.is_canceled == 1) & (hotel_dataFrame.arrival_date_year == 2017)).count()\n",
        "print(canceledReservations, ' reservations are canceled in the year 2017')"
      ],
      "metadata": {
        "colab": {
          "base_uri": "https://localhost:8080/"
        },
        "id": "obC9GBo6-MW5",
        "outputId": "dd32efca-6d15-483f-d228-03afe22fa9a7"
      },
      "execution_count": null,
      "outputs": [
        {
          "output_type": "stream",
          "name": "stdout",
          "text": [
            "15745  reservations are canceled in the year 2017\n"
          ]
        }
      ]
    },
    {
      "cell_type": "markdown",
      "source": [
        "3 D)"
      ],
      "metadata": {
        "id": "IzEFWHyN-Mt4"
      }
    },
    {
      "cell_type": "code",
      "source": [
        "categoryCBookings = hotel_dataFrame.filter(hotel_dataFrame.reserved_room_type == 'C').count()\n",
        "print('The total number of category C bookings are', categoryCBookings)"
      ],
      "metadata": {
        "colab": {
          "base_uri": "https://localhost:8080/"
        },
        "id": "vWsAM_gt-O_t",
        "outputId": "b9dd0ef4-a7d7-4201-a795-6892a1a2dfe4"
      },
      "execution_count": null,
      "outputs": [
        {
          "output_type": "stream",
          "name": "stdout",
          "text": [
            "The total number of category C bookings are 932\n"
          ]
        }
      ]
    },
    {
      "cell_type": "markdown",
      "source": [
        "3 E)"
      ],
      "metadata": {
        "id": "UpqhNi3r-PUu"
      }
    },
    {
      "cell_type": "code",
      "source": [
        "assignedRoomTypeA = hotel_dataFrame.filter(hotel_dataFrame.assigned_room_type == 'A').count()\n",
        "print('The number of rooms with  assigned room type A are ', assignedRoomTypeA)"
      ],
      "metadata": {
        "colab": {
          "base_uri": "https://localhost:8080/"
        },
        "id": "pzB_7Tv0-TJ1",
        "outputId": "2781f3e2-8275-46b4-f77b-93304e7d4b26"
      },
      "execution_count": null,
      "outputs": [
        {
          "output_type": "stream",
          "name": "stdout",
          "text": [
            "The number of rooms with  assigned room type A are  74053\n"
          ]
        }
      ]
    },
    {
      "cell_type": "markdown",
      "source": [
        "3 F)"
      ],
      "metadata": {
        "id": "qH8JfRqIFHYI"
      }
    },
    {
      "cell_type": "code",
      "source": [
        "directBookings = hotel_dataFrame.filter(hotel_dataFrame.market_segment == 'Direct').count()\n",
        "print(directBookings,' of the bookings are booked direct in market segment')"
      ],
      "metadata": {
        "colab": {
          "base_uri": "https://localhost:8080/"
        },
        "id": "QbU6BI8cFHqR",
        "outputId": "ec00d3c3-cb74-4d48-f4b7-4ea407887dfc"
      },
      "execution_count": null,
      "outputs": [
        {
          "output_type": "stream",
          "name": "stdout",
          "text": [
            "12606  of the bookings are booked direct from the market\n"
          ]
        }
      ]
    },
    {
      "cell_type": "markdown",
      "source": [],
      "metadata": {
        "id": "YVtsbWjtMwPm"
      }
    }
  ]
}