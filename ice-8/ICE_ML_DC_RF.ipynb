{
 "cells": [
  {
   "cell_type": "markdown",
   "metadata": {
    "id": "b5AGQpSmvZKm"
   },
   "source": [
    "# **1. Install spark**"
   ]
  },
  {
   "cell_type": "code",
   "execution_count": 389,
   "metadata": {
    "executionInfo": {
     "elapsed": 9793,
     "status": "ok",
     "timestamp": 1649694998636,
     "user": {
      "displayName": "cheng li",
      "userId": "07111815562137127779"
     },
     "user_tz": 300
    },
    "id": "xK6_FNXBvpRK"
   },
   "outputs": [],
   "source": [
    "!apt-get install openjdk-8-jdk-headless -qq > /dev/null\n",
    "!wget -q https://dlcdn.apache.org/spark/spark-3.0.3/spark-3.0.3-bin-hadoop2.7.tgz\n",
    "!tar xf spark-3.0.3-bin-hadoop2.7.tgz\n",
    "!pip install -q findspark"
   ]
  },
  {
   "cell_type": "code",
   "execution_count": 390,
   "metadata": {
    "executionInfo": {
     "elapsed": 26,
     "status": "ok",
     "timestamp": 1649694998790,
     "user": {
      "displayName": "cheng li",
      "userId": "07111815562137127779"
     },
     "user_tz": 300
    },
    "id": "jfInZFkav1IM"
   },
   "outputs": [],
   "source": [
    "import os\n",
    "os.environ[\"JAVA_HOME\"] = \"/usr/lib/jvm/java-8-openjdk-amd64\"\n",
    "os.environ[\"SPARK_HOME\"] = \"/content/spark-3.0.3-bin-hadoop2.7\""
   ]
  },
  {
   "cell_type": "code",
   "execution_count": 391,
   "metadata": {
    "executionInfo": {
     "elapsed": 24,
     "status": "ok",
     "timestamp": 1649694998791,
     "user": {
      "displayName": "cheng li",
      "userId": "07111815562137127779"
     },
     "user_tz": 300
    },
    "id": "OQVpPh0Av5jo"
   },
   "outputs": [],
   "source": [
    "import findspark\n",
    "findspark.init()\n",
    "from pyspark.sql import SparkSession\n",
    "spark = SparkSession.builder.master(\"local[*]\").getOrCreate()"
   ]
  },
  {
   "cell_type": "markdown",
   "metadata": {
    "id": "ond6UFZnD4NN"
   },
   "source": [
    "# **2. Load dataset**"
   ]
  },
  {
   "cell_type": "code",
   "execution_count": 392,
   "metadata": {
    "executionInfo": {
     "elapsed": 23,
     "status": "ok",
     "timestamp": 1649694998792,
     "user": {
      "displayName": "cheng li",
      "userId": "07111815562137127779"
     },
     "user_tz": 300
    },
    "id": "2O7I_lR2D9bk"
   },
   "outputs": [],
   "source": [
    "'''\n",
    "load models\n",
    "'''\n",
    "from pyspark.ml import Pipeline\n",
    "from pyspark.ml.feature import StringIndexer, VectorIndexer, IndexToString\n",
    "from pyspark.ml.evaluation import MulticlassClassificationEvaluator\n",
    "from pyspark.mllib.evaluation import MulticlassMetrics"
   ]
  },
  {
   "cell_type": "code",
   "execution_count": 393,
   "metadata": {
    "executionInfo": {
     "elapsed": 349,
     "status": "ok",
     "timestamp": 1649694999122,
     "user": {
      "displayName": "cheng li",
      "userId": "07111815562137127779"
     },
     "user_tz": 300
    },
    "id": "QM1XsPIlsnjj"
   },
   "outputs": [],
   "source": [
    "'''\n",
    "load data\n",
    "load the dataset to google Drive. Then copy the link of the data file\n",
    "'''\n",
    "data = spark.read.format(\"libsvm\").load(\"/content/drive/MyDrive/Colab Notebooks/sample_multiclass_classification_data.txt\")"
   ]
  },
  {
   "cell_type": "code",
   "execution_count": null,
   "metadata": {
    "id": "Wrzzfeiqo9zG"
   },
   "outputs": [],
   "source": [
    "data.select(\"features\").show(1,False)"
   ]
  },
  {
   "cell_type": "code",
   "execution_count": null,
   "metadata": {
    "id": "szyL1uGY0rND"
   },
   "outputs": [],
   "source": [
    "data.dtypes"
   ]
  },
  {
   "cell_type": "code",
   "execution_count": 396,
   "metadata": {
    "executionInfo": {
     "elapsed": 332,
     "status": "ok",
     "timestamp": 1649694999605,
     "user": {
      "displayName": "cheng li",
      "userId": "07111815562137127779"
     },
     "user_tz": 300
    },
    "id": "JfDhcqCXtDYQ"
   },
   "outputs": [],
   "source": [
    "'''\n",
    "label indexer \n",
    "map a string column of labels to an ML column of label indices\n",
    "'''\n",
    "labelIndexer = StringIndexer(inputCol=\"label\", outputCol=\"indexedLabel\").fit(data)"
   ]
  },
  {
   "cell_type": "code",
   "execution_count": 397,
   "metadata": {
    "executionInfo": {
     "elapsed": 16,
     "status": "ok",
     "timestamp": 1649694999606,
     "user": {
      "displayName": "cheng li",
      "userId": "07111815562137127779"
     },
     "user_tz": 300
    },
    "id": "cBG-_bOvtOzw"
   },
   "outputs": [],
   "source": [
    "'''\n",
    "class for indexing categorical feature columns in a dataset of Vector\n",
    "'''\n",
    "featureIndexer =VectorIndexer(inputCol=\"features\", outputCol=\"indexedFeatures\", maxCategories=4).fit(data)"
   ]
  },
  {
   "cell_type": "code",
   "execution_count": 398,
   "metadata": {
    "executionInfo": {
     "elapsed": 10,
     "status": "ok",
     "timestamp": 1649694999606,
     "user": {
      "displayName": "cheng li",
      "userId": "07111815562137127779"
     },
     "user_tz": 300
    },
    "id": "7I-7pP0stWfY"
   },
   "outputs": [],
   "source": [
    "'''\n",
    "split dataset to training and testing \n",
    "'''\n",
    "(trainingData, testData) = data.randomSplit([0.7, 0.3])"
   ]
  },
  {
   "cell_type": "markdown",
   "metadata": {
    "id": "21uTvYgroxGa"
   },
   "source": [
    "# **2. Decision Tree**\n",
    "Run below codes and answer question 1.\n",
    "\n",
    "reference:\n",
    "\n",
    "model:\n",
    "https://spark.apache.org/docs/latest/mllib-decision-tree.html\n",
    "\n",
    "evaluation:\n",
    "https://spark.apache.org/docs/latest/mllib-evaluation-metrics.html#multiclass-classification"
   ]
  },
  {
   "cell_type": "markdown",
   "metadata": {
    "id": "tGN_NEMxdpYv"
   },
   "source": [
    "## **Model**"
   ]
  },
  {
   "cell_type": "code",
   "execution_count": 399,
   "metadata": {
    "executionInfo": {
     "elapsed": 128,
     "status": "ok",
     "timestamp": 1649694999725,
     "user": {
      "displayName": "cheng li",
      "userId": "07111815562137127779"
     },
     "user_tz": 300
    },
    "id": "HUSvUmlBsk-1"
   },
   "outputs": [],
   "source": [
    "from pyspark.ml.classification import DecisionTreeClassifier"
   ]
  },
  {
   "cell_type": "code",
   "execution_count": 436,
   "metadata": {
    "executionInfo": {
     "elapsed": 84,
     "status": "ok",
     "timestamp": 1649695068257,
     "user": {
      "displayName": "cheng li",
      "userId": "07111815562137127779"
     },
     "user_tz": 300
    },
    "id": "mUbDZYFbtZ2w"
   },
   "outputs": [],
   "source": [
    "dt = DecisionTreeClassifier( maxDepth=2,featuresCol=\"indexedFeatures\",labelCol=\"indexedLabel\")"
   ]
  },
  {
   "cell_type": "code",
   "execution_count": 437,
   "metadata": {
    "executionInfo": {
     "elapsed": 110,
     "status": "ok",
     "timestamp": 1649695069152,
     "user": {
      "displayName": "cheng li",
      "userId": "07111815562137127779"
     },
     "user_tz": 300
    },
    "id": "F15Ahpgw4fVQ"
   },
   "outputs": [],
   "source": [
    "dt_pipeline = Pipeline(stages=[labelIndexer, featureIndexer, dt])"
   ]
  },
  {
   "cell_type": "code",
   "execution_count": 440,
   "metadata": {
    "executionInfo": {
     "elapsed": 638,
     "status": "ok",
     "timestamp": 1649695072634,
     "user": {
      "displayName": "cheng li",
      "userId": "07111815562137127779"
     },
     "user_tz": 300
    },
    "id": "Oo4q6tuI4ttL"
   },
   "outputs": [],
   "source": [
    "dt_model = dt_pipeline.fit(trainingData)"
   ]
  },
  {
   "cell_type": "code",
   "execution_count": 441,
   "metadata": {
    "executionInfo": {
     "elapsed": 101,
     "status": "ok",
     "timestamp": 1649695073382,
     "user": {
      "displayName": "cheng li",
      "userId": "07111815562137127779"
     },
     "user_tz": 300
    },
    "id": "9Inley5q4x_D"
   },
   "outputs": [],
   "source": [
    "dt_predictions = dt_model.transform(testData)"
   ]
  },
  {
   "cell_type": "code",
   "execution_count": null,
   "metadata": {
    "id": "N3AMZonqFlIf"
   },
   "outputs": [],
   "source": [
    "print(dt_model.stages[2])"
   ]
  },
  {
   "cell_type": "code",
   "execution_count": null,
   "metadata": {
    "id": "vBrZCjDbDMkh"
   },
   "outputs": [],
   "source": [
    "dt_predictions.show(5)"
   ]
  },
  {
   "cell_type": "markdown",
   "metadata": {
    "id": "CEw8svcndhJL"
   },
   "source": [
    "## **Model Evaluation**\n",
    "You finish codes on the f1 and recall parts and run the code. Answer the question 1."
   ]
  },
  {
   "cell_type": "markdown",
   "metadata": {
    "id": "DMbv6wIXcp57"
   },
   "source": [
    "Accurancy"
   ]
  },
  {
   "cell_type": "code",
   "execution_count": null,
   "metadata": {
    "id": "EblTx858cpLI"
   },
   "outputs": [],
   "source": [
    "acc_evaluator_dt = MulticlassClassificationEvaluator(labelCol=\"indexedLabel\", predictionCol=\"prediction\", metricName=\"accuracy\",)\n",
    "acc_dt = acc_evaluator_dt.evaluate(dt_predictions)\n",
    "print(\"accurancy:\"+str(acc_dt))"
   ]
  },
  {
   "cell_type": "markdown",
   "metadata": {
    "id": "ka2CAStYwsVf"
   },
   "source": [
    "Precision"
   ]
  },
  {
   "cell_type": "code",
   "execution_count": null,
   "metadata": {
    "id": "OFqNVddLwp35"
   },
   "outputs": [],
   "source": [
    "pr_evaluator_dt = MulticlassClassificationEvaluator(labelCol=\"indexedLabel\", predictionCol=\"prediction\", metricName=\"precisionByLabel\")\n",
    "precision_dt = pr_evaluator_dt.evaluate(dt_predictions)\n",
    "print(\"precision:\"+str(precision_dt))"
   ]
  },
  {
   "cell_type": "markdown",
   "metadata": {
    "id": "nhSvvN31dPZd"
   },
   "source": [
    "F1_score"
   ]
  },
  {
   "cell_type": "code",
   "execution_count": 407,
   "metadata": {
    "executionInfo": {
     "elapsed": 28,
     "status": "ok",
     "timestamp": 1649695002155,
     "user": {
      "displayName": "cheng li",
      "userId": "07111815562137127779"
     },
     "user_tz": 300
    },
    "id": "UwKk5PWAdQRk"
   },
   "outputs": [],
   "source": []
  },
  {
   "cell_type": "markdown",
   "metadata": {
    "id": "lRRuW64WdYAr"
   },
   "source": [
    "Recall"
   ]
  },
  {
   "cell_type": "code",
   "execution_count": 407,
   "metadata": {
    "executionInfo": {
     "elapsed": 20,
     "status": "ok",
     "timestamp": 1649695002156,
     "user": {
      "displayName": "cheng li",
      "userId": "07111815562137127779"
     },
     "user_tz": 300
    },
    "id": "I57iQQ6SdZ9Y"
   },
   "outputs": [],
   "source": []
  },
  {
   "cell_type": "markdown",
   "metadata": {
    "id": "YFFKRNGpDdXe"
   },
   "source": [
    "# **3. Random forest**\n",
    "Run below codes and answer question 2.\n",
    "\n",
    "reference:\n",
    "\n",
    "model:\n",
    "https://spark.apache.org/docs/latest/mllib-ensembles.html#random-forests \n",
    "\n",
    "evaluation:\n",
    "https://spark.apache.org/docs/latest/mllib-evaluation-metrics.html#multiclass-classification"
   ]
  },
  {
   "cell_type": "markdown",
   "metadata": {
    "id": "G_aMOlvHdtuF"
   },
   "source": [
    "## **Model**"
   ]
  },
  {
   "cell_type": "code",
   "execution_count": 408,
   "metadata": {
    "executionInfo": {
     "elapsed": 20,
     "status": "ok",
     "timestamp": 1649695002157,
     "user": {
      "displayName": "cheng li",
      "userId": "07111815562137127779"
     },
     "user_tz": 300
    },
    "id": "Yx9SDr81Dk4n"
   },
   "outputs": [],
   "source": [
    "from pyspark.ml.classification import RandomForestClassifier"
   ]
  },
  {
   "cell_type": "code",
   "execution_count": 409,
   "metadata": {
    "executionInfo": {
     "elapsed": 13,
     "status": "ok",
     "timestamp": 1649695002157,
     "user": {
      "displayName": "cheng li",
      "userId": "07111815562137127779"
     },
     "user_tz": 300
    },
    "id": "r55Np16LEZi4"
   },
   "outputs": [],
   "source": [
    "rf = RandomForestClassifier(numTrees=3,featuresCol=\"indexedFeatures\",labelCol=\"indexedLabel\")"
   ]
  },
  {
   "cell_type": "code",
   "execution_count": 410,
   "metadata": {
    "executionInfo": {
     "elapsed": 13,
     "status": "ok",
     "timestamp": 1649695002158,
     "user": {
      "displayName": "cheng li",
      "userId": "07111815562137127779"
     },
     "user_tz": 300
    },
    "id": "josHpbkfE_L3"
   },
   "outputs": [],
   "source": [
    "rf_pipeline = Pipeline(stages=[labelIndexer, featureIndexer, rf])"
   ]
  },
  {
   "cell_type": "code",
   "execution_count": 411,
   "metadata": {
    "executionInfo": {
     "elapsed": 171,
     "status": "ok",
     "timestamp": 1649695002316,
     "user": {
      "displayName": "cheng li",
      "userId": "07111815562137127779"
     },
     "user_tz": 300
    },
    "id": "JEHOWDddFHl2"
   },
   "outputs": [],
   "source": [
    "rf_model = rf_pipeline.fit(trainingData)"
   ]
  },
  {
   "cell_type": "code",
   "execution_count": 412,
   "metadata": {
    "executionInfo": {
     "elapsed": 151,
     "status": "ok",
     "timestamp": 1649695002462,
     "user": {
      "displayName": "cheng li",
      "userId": "07111815562137127779"
     },
     "user_tz": 300
    },
    "id": "81kg0eGtFPLx"
   },
   "outputs": [],
   "source": [
    "rf_predictions = rf_model.transform(testData)"
   ]
  },
  {
   "cell_type": "code",
   "execution_count": null,
   "metadata": {
    "id": "rfHKIV4_GxIm"
   },
   "outputs": [],
   "source": [
    "print(rf_model.stages[2])"
   ]
  },
  {
   "cell_type": "code",
   "execution_count": null,
   "metadata": {
    "id": "bNCQPS1oFY9-"
   },
   "outputs": [],
   "source": [
    "rf_predictions.show(5)"
   ]
  },
  {
   "cell_type": "markdown",
   "metadata": {
    "id": "X30zALf3dy4w"
   },
   "source": [
    "## **Model Evaluation**\n",
    "You finish codes on the precision and recall parts and run the code. Answer the question 2."
   ]
  },
  {
   "cell_type": "markdown",
   "metadata": {
    "id": "ZgKiSqplyLDg"
   },
   "source": [
    "Accurancy"
   ]
  },
  {
   "cell_type": "code",
   "execution_count": null,
   "metadata": {
    "id": "SqK_HVyGyKlk"
   },
   "outputs": [],
   "source": [
    "acc_evaluator_rf = MulticlassClassificationEvaluator(labelCol=\"indexedLabel\", predictionCol=\"prediction\", metricName=\"accuracy\",)\n",
    "acc_rf = acc_evaluator_rf.evaluate(rf_predictions)\n",
    "print(\"accurancy:\"+str(acc_rf))"
   ]
  },
  {
   "cell_type": "markdown",
   "metadata": {
    "id": "dRclQYriyNeq"
   },
   "source": [
    "F1_score"
   ]
  },
  {
   "cell_type": "code",
   "execution_count": null,
   "metadata": {
    "id": "VF1hYsPvyQR-"
   },
   "outputs": [],
   "source": [
    "f_evaluator_rf = MulticlassClassificationEvaluator(labelCol=\"indexedLabel\", predictionCol=\"prediction\", metricName=\"f1\")\n",
    "f1_score_rf = f_evaluator_rf.evaluate(rf_predictions)\n",
    "print(\"f1 score:\"+str(f1_score_rf))"
   ]
  },
  {
   "cell_type": "markdown",
   "metadata": {
    "id": "QqDRF4V6yQlW"
   },
   "source": [
    "Precision"
   ]
  },
  {
   "cell_type": "code",
   "execution_count": 416,
   "metadata": {
    "executionInfo": {
     "elapsed": 8,
     "status": "ok",
     "timestamp": 1649695003201,
     "user": {
      "displayName": "cheng li",
      "userId": "07111815562137127779"
     },
     "user_tz": 300
    },
    "id": "0cX7_yGEySqQ"
   },
   "outputs": [],
   "source": []
  },
  {
   "cell_type": "markdown",
   "metadata": {
    "id": "YsMFpW8oyTOe"
   },
   "source": [
    "Recall"
   ]
  },
  {
   "cell_type": "code",
   "execution_count": 416,
   "metadata": {
    "executionInfo": {
     "elapsed": 8,
     "status": "ok",
     "timestamp": 1649695003202,
     "user": {
      "displayName": "cheng li",
      "userId": "07111815562137127779"
     },
     "user_tz": 300
    },
    "id": "W8sQyYS0yUqi"
   },
   "outputs": [],
   "source": []
  }
 ],
 "metadata": {
  "colab": {
   "authorship_tag": "ABX9TyPtYzy5EcO7ERo4qK1x9S/F",
   "collapsed_sections": [
    "b5AGQpSmvZKm",
    "ond6UFZnD4NN"
   ],
   "mount_file_id": "1kQEuzbNlLz42ppaMUJ8wC_frMSdr5YCp",
   "name": "Untitled0.ipynb",
   "provenance": []
  },
  "kernelspec": {
   "display_name": "Python 3 (ipykernel)",
   "language": "python",
   "name": "python3"
  },
  "language_info": {
   "codemirror_mode": {
    "name": "ipython",
    "version": 3
   },
   "file_extension": ".py",
   "mimetype": "text/x-python",
   "name": "python",
   "nbconvert_exporter": "python",
   "pygments_lexer": "ipython3",
   "version": "3.8.10"
  }
 },
 "nbformat": 4,
 "nbformat_minor": 1
}
