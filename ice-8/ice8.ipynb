{
  "nbformat": 4,
  "nbformat_minor": 0,
  "metadata": {
    "colab": {
      "provenance": []
    },
    "kernelspec": {
      "name": "python3",
      "display_name": "Python 3"
    },
    "language_info": {
      "name": "python"
    }
  },
  "cells": [
    {
      "cell_type": "code",
      "execution_count": 1,
      "metadata": {
        "colab": {
          "base_uri": "https://localhost:8080/",
          "height": 0
        },
        "id": "x0WSqaGnsn4-",
        "outputId": "e34fae24-9d17-4bad-af40-aaad2c4e66e3"
      },
      "outputs": [
        {
          "output_type": "stream",
          "name": "stdout",
          "text": [
            "Name: py4j\n",
            "Version: 0.10.9.7\n",
            "Summary: Enables Python programs to dynamically access arbitrary Java objects\n",
            "Home-page: https://www.py4j.org/\n",
            "Author: Barthelemy Dagenais\n",
            "Author-email: barthelemy@infobart.com\n",
            "License: BSD License\n",
            "Location: /usr/local/lib/python3.9/dist-packages\n",
            "Requires: \n",
            "Required-by: hyperopt\n"
          ]
        }
      ],
      "source": [
        "!pip show py4j"
      ]
    },
    {
      "cell_type": "code",
      "source": [
        "# innstall java\n",
        "!apt-get install openjdk-8-jdk-headless -qq > /dev/null\n",
        "# install spark\n",
        "!wget -q https://archive.apache.org/dist/spark/spark-3.2.1/spark-3.2.1-bin-hadoop3.2.tgz\n",
        "# unzip spark\n",
        "!tar xf spark-3.2.1-bin-hadoop3.2.tgz\n",
        "!pip install -q findspark"
      ],
      "metadata": {
        "id": "TTuAX_djs9SN"
      },
      "execution_count": 2,
      "outputs": []
    },
    {
      "cell_type": "code",
      "source": [
        "# set your spark folder to your system path environment. \n",
        "import os\n",
        "os.environ[\"JAVA_HOME\"] = \"/usr/lib/jvm/java-8-openjdk-amd64\"\n",
        "os.environ[\"SPARK_HOME\"] = \"/content/spark-3.2.1-bin-hadoop3.2\""
      ],
      "metadata": {
        "id": "kjDUqCzZtNEK"
      },
      "execution_count": 7,
      "outputs": []
    },
    {
      "cell_type": "code",
      "source": [
        "import findspark\n",
        "findspark.init()"
      ],
      "metadata": {
        "id": "tPM-1fRvtdv1"
      },
      "execution_count": 8,
      "outputs": []
    },
    {
      "cell_type": "code",
      "source": [
        "from pyspark.sql import SparkSession"
      ],
      "metadata": {
        "id": "e_v0K9HstiCE"
      },
      "execution_count": 9,
      "outputs": []
    },
    {
      "cell_type": "code",
      "source": [
        "spark = SparkSession.builder.master(\"local[*]\").getOrCreate()"
      ],
      "metadata": {
        "id": "9RT-s34xtlBM"
      },
      "execution_count": 10,
      "outputs": []
    },
    {
      "cell_type": "code",
      "source": [
        "'''\n",
        "load models\n",
        "'''\n",
        "from pyspark.ml import Pipeline\n",
        "from pyspark.ml.feature import StringIndexer, VectorIndexer, IndexToString\n",
        "from pyspark.ml.evaluation import MulticlassClassificationEvaluator\n",
        "from pyspark.mllib.evaluation import MulticlassMetrics"
      ],
      "metadata": {
        "id": "iAp03AjYtucx"
      },
      "execution_count": 11,
      "outputs": []
    },
    {
      "cell_type": "code",
      "source": [
        "'''\n",
        "load data\n",
        "load the dataset to google Drive. Then copy the link of the data file\n",
        "'''\n",
        "data = spark.read.format(\"libsvm\").load(\"/content/dataset.txt\")"
      ],
      "metadata": {
        "id": "tM8k0v3Wt0K9"
      },
      "execution_count": 12,
      "outputs": []
    },
    {
      "cell_type": "code",
      "source": [
        "data.select(\"features\").show(1, False)"
      ],
      "metadata": {
        "colab": {
          "base_uri": "https://localhost:8080/",
          "height": 0
        },
        "id": "wvlhcd1QuHXx",
        "outputId": "188bcfa3-82c2-497f-8088-ad84fa90fb67"
      },
      "execution_count": 14,
      "outputs": [
        {
          "output_type": "stream",
          "name": "stdout",
          "text": [
            "+-------------------------------------------------+\n",
            "|features                                         |\n",
            "+-------------------------------------------------+\n",
            "|(4,[0,1,2,3],[-0.222222,0.5,-0.762712,-0.833333])|\n",
            "+-------------------------------------------------+\n",
            "only showing top 1 row\n",
            "\n"
          ]
        }
      ]
    },
    {
      "cell_type": "code",
      "source": [
        "data.dtypes"
      ],
      "metadata": {
        "colab": {
          "base_uri": "https://localhost:8080/",
          "height": 0
        },
        "id": "rVcIKTqcuZET",
        "outputId": "fc715dd8-063f-4e84-c2c1-d9c924cb7006"
      },
      "execution_count": 15,
      "outputs": [
        {
          "output_type": "execute_result",
          "data": {
            "text/plain": [
              "[('label', 'double'), ('features', 'vector')]"
            ]
          },
          "metadata": {},
          "execution_count": 15
        }
      ]
    },
    {
      "cell_type": "code",
      "source": [
        "'''\n",
        "label indexer \n",
        "map a string column of labels to an ML column of label indices\n",
        "'''\n",
        "labelIndexer = StringIndexer(inputCol=\"label\", outputCol=\"indexedLabel\").fit(data)"
      ],
      "metadata": {
        "id": "lkapCxlBuelH"
      },
      "execution_count": 16,
      "outputs": []
    },
    {
      "cell_type": "code",
      "source": [
        "'''\n",
        "class for indexing categorical feature columns in a dataset of Vector\n",
        "'''\n",
        "featureIndexer =VectorIndexer(inputCol=\"features\", outputCol=\"indexedFeatures\", maxCategories=4).fit(data)"
      ],
      "metadata": {
        "id": "9PfS4BxxukkY"
      },
      "execution_count": 17,
      "outputs": []
    },
    {
      "cell_type": "code",
      "source": [
        "'''\n",
        "split dataset to training and testing \n",
        "'''\n",
        "(trainingData, testData) = data.randomSplit([0.7, 0.3])"
      ],
      "metadata": {
        "id": "etH9McMqxbPA"
      },
      "execution_count": 21,
      "outputs": []
    },
    {
      "cell_type": "markdown",
      "source": [
        "**TASK 1**"
      ],
      "metadata": {
        "id": "ddLVhyUdus-Z"
      }
    },
    {
      "cell_type": "code",
      "source": [
        "# importing decesion tree classifier\n",
        "from pyspark.ml.classification import DecisionTreeClassifier"
      ],
      "metadata": {
        "id": "837AR4LNuwf_"
      },
      "execution_count": 18,
      "outputs": []
    },
    {
      "cell_type": "code",
      "source": [
        "dt = DecisionTreeClassifier( maxDepth=2,featuresCol=\"indexedFeatures\",labelCol=\"indexedLabel\")"
      ],
      "metadata": {
        "id": "GLuijWBUxCms"
      },
      "execution_count": 19,
      "outputs": []
    },
    {
      "cell_type": "code",
      "source": [
        "dt_pipeline = Pipeline(stages=[labelIndexer, featureIndexer, dt])"
      ],
      "metadata": {
        "id": "bU1I5b5gxIoo"
      },
      "execution_count": 20,
      "outputs": []
    },
    {
      "cell_type": "code",
      "source": [
        "dt_model = dt_pipeline.fit(trainingData)"
      ],
      "metadata": {
        "id": "OeJ8oYGWxM1t"
      },
      "execution_count": 22,
      "outputs": []
    },
    {
      "cell_type": "code",
      "source": [
        "dt_predictions = dt_model.transform(testData)"
      ],
      "metadata": {
        "id": "Ewf2QU9yxicr"
      },
      "execution_count": 23,
      "outputs": []
    },
    {
      "cell_type": "code",
      "source": [
        "print(dt_model.stages[2])"
      ],
      "metadata": {
        "colab": {
          "base_uri": "https://localhost:8080/",
          "height": 0
        },
        "id": "pf_PJzsHxmFA",
        "outputId": "e0a15f19-1a43-4783-f7f1-337a4b9cbf48"
      },
      "execution_count": 24,
      "outputs": [
        {
          "output_type": "stream",
          "name": "stdout",
          "text": [
            "DecisionTreeClassificationModel: uid=DecisionTreeClassifier_268ec2b0d850, depth=2, numNodes=5, numClasses=3, numFeatures=4\n"
          ]
        }
      ]
    },
    {
      "cell_type": "code",
      "source": [
        "dt_predictions.show(5)"
      ],
      "metadata": {
        "colab": {
          "base_uri": "https://localhost:8080/",
          "height": 0
        },
        "id": "q4cVRRWGxq8L",
        "outputId": "3ccbfdd8-4c65-4108-f42d-53e3bff1de3d"
      },
      "execution_count": 25,
      "outputs": [
        {
          "output_type": "stream",
          "name": "stdout",
          "text": [
            "+-----+--------------------+------------+--------------------+--------------+--------------------+----------+\n",
            "|label|            features|indexedLabel|     indexedFeatures| rawPrediction|         probability|prediction|\n",
            "+-----+--------------------+------------+--------------------+--------------+--------------------+----------+\n",
            "|  0.0|(4,[0,1,2,3],[-1....|         0.0|(4,[0,1,2,3],[-1....|[37.0,0.0,1.0]|[0.97368421052631...|       0.0|\n",
            "|  0.0|(4,[0,1,2,3],[0.1...|         0.0|(4,[0,1,2,3],[0.1...|[37.0,0.0,1.0]|[0.97368421052631...|       0.0|\n",
            "|  0.0|(4,[0,1,2,3],[0.1...|         0.0|(4,[0,1,2,3],[0.1...|[37.0,0.0,1.0]|[0.97368421052631...|       0.0|\n",
            "|  0.0|(4,[0,1,2,3],[0.1...|         0.0|(4,[0,1,2,3],[0.1...|[37.0,0.0,1.0]|[0.97368421052631...|       0.0|\n",
            "|  0.0|(4,[0,1,2,3],[0.3...|         0.0|(4,[0,1,2,3],[0.3...|[37.0,0.0,1.0]|[0.97368421052631...|       0.0|\n",
            "+-----+--------------------+------------+--------------------+--------------+--------------------+----------+\n",
            "only showing top 5 rows\n",
            "\n"
          ]
        }
      ]
    },
    {
      "cell_type": "code",
      "source": [
        "acc_evaluator_dt = MulticlassClassificationEvaluator(labelCol=\"indexedLabel\", predictionCol=\"prediction\", metricName=\"accuracy\",)\n",
        "acc_dt = acc_evaluator_dt.evaluate(dt_predictions)\n",
        "print(\"accurancy:\"+str(acc_dt))"
      ],
      "metadata": {
        "colab": {
          "base_uri": "https://localhost:8080/",
          "height": 0
        },
        "id": "7jeTVdYIx4Jc",
        "outputId": "7acea519-a8cf-43f0-a604-479dd96d7adb"
      },
      "execution_count": 26,
      "outputs": [
        {
          "output_type": "stream",
          "name": "stdout",
          "text": [
            "accurancy:0.8863636363636364\n"
          ]
        }
      ]
    },
    {
      "cell_type": "code",
      "source": [
        "pr_evaluator_dt = MulticlassClassificationEvaluator(labelCol=\"indexedLabel\", predictionCol=\"prediction\", metricName=\"precisionByLabel\")\n",
        "precision_dt = pr_evaluator_dt.evaluate(dt_predictions)\n",
        "print(\"precision:\"+str(precision_dt))"
      ],
      "metadata": {
        "colab": {
          "base_uri": "https://localhost:8080/",
          "height": 0
        },
        "id": "1LJwLOMhx9ot",
        "outputId": "4da5c873-e969-4be9-dce7-8d6fd45fb0e7"
      },
      "execution_count": 27,
      "outputs": [
        {
          "output_type": "stream",
          "name": "stdout",
          "text": [
            "precision:0.7058823529411765\n"
          ]
        }
      ]
    },
    {
      "cell_type": "markdown",
      "source": [
        "Task 1 A"
      ],
      "metadata": {
        "id": "tjDXibhq0A-1"
      }
    },
    {
      "cell_type": "code",
      "source": [
        "f1_evaluator_dt = MulticlassClassificationEvaluator( labelCol='indexedLabel', predictionCol=\"prediction\", metricName='f1')\n",
        "f1 = f1_evaluator_dt.evaluate(dt_predictions)\n",
        "print(\"F1 Score:\"+str(f1))"
      ],
      "metadata": {
        "colab": {
          "base_uri": "https://localhost:8080/",
          "height": 0
        },
        "id": "ckyEteLgyNMP",
        "outputId": "07347aea-f8a8-4405-ff6f-0c3468a2139a"
      },
      "execution_count": 28,
      "outputs": [
        {
          "output_type": "stream",
          "name": "stdout",
          "text": [
            "F1 Score:0.8863636363636365\n"
          ]
        }
      ]
    },
    {
      "cell_type": "code",
      "source": [
        "rec_evaluator_dt = MulticlassClassificationEvaluator(labelCol='indexedLabel', predictionCol =\"prediction\", metricName=\"recallByLabel\")\n",
        "rec =rec_evaluator_dt.evaluate(dt_predictions)\n",
        "print(\"recall: \"+str(rec))"
      ],
      "metadata": {
        "colab": {
          "base_uri": "https://localhost:8080/",
          "height": 0
        },
        "id": "3kZFFPJ1y6Yk",
        "outputId": "69b551bd-713a-4999-94d5-cf41df08e78f"
      },
      "execution_count": 29,
      "outputs": [
        {
          "output_type": "stream",
          "name": "stdout",
          "text": [
            "recall: 1.0\n"
          ]
        }
      ]
    },
    {
      "cell_type": "markdown",
      "source": [
        "Task 1 B"
      ],
      "metadata": {
        "id": "aE53Ssjiz_sC"
      }
    },
    {
      "cell_type": "code",
      "source": [
        "#  changed depth to 5\n",
        "dt_d5 = DecisionTreeClassifier( maxDepth=5,featuresCol=\"indexedFeatures\",labelCol=\"indexedLabel\")"
      ],
      "metadata": {
        "id": "XNunuFz-0Hd5"
      },
      "execution_count": 30,
      "outputs": []
    },
    {
      "cell_type": "code",
      "source": [
        "dt_pipeline_d5 = Pipeline(stages=[labelIndexer, featureIndexer, dt_d5])"
      ],
      "metadata": {
        "id": "5RjN9DJk0lCy"
      },
      "execution_count": 31,
      "outputs": []
    },
    {
      "cell_type": "code",
      "source": [
        "dt_model_d5 = dt_pipeline_d5.fit(trainingData)"
      ],
      "metadata": {
        "id": "8k2h4UQd0tYX"
      },
      "execution_count": 32,
      "outputs": []
    },
    {
      "cell_type": "code",
      "source": [
        "dt_predictions_d5 = dt_model_d5.transform(testData)"
      ],
      "metadata": {
        "id": "XmQeaQvt3q8X"
      },
      "execution_count": 33,
      "outputs": []
    },
    {
      "cell_type": "code",
      "source": [
        "print(dt_model_d5.stages[2])"
      ],
      "metadata": {
        "colab": {
          "base_uri": "https://localhost:8080/",
          "height": 0
        },
        "id": "3PDE_-Dq31CD",
        "outputId": "3e4db4bc-66b2-4d1f-885f-f3d65e745b9e"
      },
      "execution_count": 36,
      "outputs": [
        {
          "output_type": "stream",
          "name": "stdout",
          "text": [
            "DecisionTreeClassificationModel: uid=DecisionTreeClassifier_a6f86ddfe766, depth=4, numNodes=11, numClasses=3, numFeatures=4\n"
          ]
        }
      ]
    },
    {
      "cell_type": "code",
      "source": [
        "dt_predictions_d5.show(5)"
      ],
      "metadata": {
        "colab": {
          "base_uri": "https://localhost:8080/",
          "height": 0
        },
        "id": "tYf4LOXQ349-",
        "outputId": "6b00fdc5-5907-42fa-9cdc-4923168f77ff"
      },
      "execution_count": 37,
      "outputs": [
        {
          "output_type": "stream",
          "name": "stdout",
          "text": [
            "+-----+--------------------+------------+--------------------+--------------+-------------+----------+\n",
            "|label|            features|indexedLabel|     indexedFeatures| rawPrediction|  probability|prediction|\n",
            "+-----+--------------------+------------+--------------------+--------------+-------------+----------+\n",
            "|  0.0|(4,[0,1,2,3],[-1....|         0.0|(4,[0,1,2,3],[-1....|[36.0,0.0,0.0]|[1.0,0.0,0.0]|       0.0|\n",
            "|  0.0|(4,[0,1,2,3],[0.1...|         0.0|(4,[0,1,2,3],[0.1...|[36.0,0.0,0.0]|[1.0,0.0,0.0]|       0.0|\n",
            "|  0.0|(4,[0,1,2,3],[0.1...|         0.0|(4,[0,1,2,3],[0.1...|[36.0,0.0,0.0]|[1.0,0.0,0.0]|       0.0|\n",
            "|  0.0|(4,[0,1,2,3],[0.1...|         0.0|(4,[0,1,2,3],[0.1...|[36.0,0.0,0.0]|[1.0,0.0,0.0]|       0.0|\n",
            "|  0.0|(4,[0,1,2,3],[0.3...|         0.0|(4,[0,1,2,3],[0.3...|[36.0,0.0,0.0]|[1.0,0.0,0.0]|       0.0|\n",
            "+-----+--------------------+------------+--------------------+--------------+-------------+----------+\n",
            "only showing top 5 rows\n",
            "\n"
          ]
        }
      ]
    },
    {
      "cell_type": "markdown",
      "source": [
        "1 E using 1 B"
      ],
      "metadata": {
        "id": "FsunrRU-U0Ww"
      }
    },
    {
      "cell_type": "code",
      "source": [
        "from sklearn.metrics import confusion_matrix\n",
        "from pyspark.sql.functions import col\n",
        "actual_labels = testData.select(col(\"label\")).rdd.flatMap(lambda x: x).collect()\n",
        "print(\"actual_labels: \"+str(actual_labels))\n",
        "predicted_labels = dt_predictions_d5.select(col(\"prediction\")).rdd.flatMap(lambda x: x).collect()\n",
        "print(\"predicted_labels: \"+str(predicted_labels))\n",
        "\n",
        "cm = confusion_matrix(actual_labels, predicted_labels)\n",
        "print()\n",
        "print(\"confusion matrix\")\n",
        "print(cm)\n",
        "\n",
        "from sklearn.metrics import classification_report\n",
        "print()\n",
        "print(\"confusion report\")\n",
        "print(classification_report(actual_labels, predicted_labels))"
      ],
      "metadata": {
        "colab": {
          "base_uri": "https://localhost:8080/",
          "height": 0
        },
        "id": "17G6X9J3QI_Y",
        "outputId": "48be0cd5-9164-45b7-8342-b1f0caa6a825"
      },
      "execution_count": 66,
      "outputs": [
        {
          "output_type": "stream",
          "name": "stdout",
          "text": [
            "actual_labels: [0.0, 0.0, 0.0, 0.0, 0.0, 0.0, 0.0, 0.0, 0.0, 0.0, 0.0, 0.0, 1.0, 1.0, 1.0, 1.0, 1.0, 1.0, 1.0, 1.0, 1.0, 1.0, 1.0, 1.0, 1.0, 1.0, 1.0, 2.0, 2.0, 2.0, 2.0, 2.0, 2.0, 2.0, 2.0, 2.0, 2.0, 2.0, 2.0, 2.0, 2.0, 2.0, 2.0, 2.0]\n",
            "predicted_labels: [0.0, 0.0, 0.0, 0.0, 0.0, 0.0, 0.0, 0.0, 0.0, 0.0, 0.0, 0.0, 1.0, 1.0, 1.0, 1.0, 1.0, 1.0, 1.0, 1.0, 1.0, 1.0, 1.0, 1.0, 1.0, 1.0, 1.0, 0.0, 2.0, 2.0, 2.0, 2.0, 2.0, 2.0, 0.0, 2.0, 2.0, 0.0, 2.0, 2.0, 0.0, 0.0, 0.0, 2.0]\n",
            "\n",
            "confusion matrix\n",
            "[[12  0  0]\n",
            " [ 0 15  0]\n",
            " [ 6  0 11]]\n",
            "\n",
            "confusion report\n",
            "              precision    recall  f1-score   support\n",
            "\n",
            "         0.0       0.67      1.00      0.80        12\n",
            "         1.0       1.00      1.00      1.00        15\n",
            "         2.0       1.00      0.65      0.79        17\n",
            "\n",
            "    accuracy                           0.86        44\n",
            "   macro avg       0.89      0.88      0.86        44\n",
            "weighted avg       0.91      0.86      0.86        44\n",
            "\n"
          ]
        }
      ]
    },
    {
      "cell_type": "code",
      "source": [
        "acc_evaluator_dt_d5 = MulticlassClassificationEvaluator(labelCol=\"indexedLabel\", predictionCol=\"prediction\", metricName=\"accuracy\",)\n",
        "acc_dt_d5 = acc_evaluator_dt_d5.evaluate(dt_predictions_d5)\n",
        "print(\"accurancy:\"+str(acc_dt_d5))"
      ],
      "metadata": {
        "colab": {
          "base_uri": "https://localhost:8080/",
          "height": 0
        },
        "id": "Nj7iPGPE4PjU",
        "outputId": "89fe82f6-faf1-44c1-ff12-b12c9922ce3a"
      },
      "execution_count": 39,
      "outputs": [
        {
          "output_type": "stream",
          "name": "stdout",
          "text": [
            "accurancy:0.8636363636363636\n"
          ]
        }
      ]
    },
    {
      "cell_type": "code",
      "source": [
        "pr_evaluator_dt_d5 = MulticlassClassificationEvaluator(labelCol=\"indexedLabel\", predictionCol=\"prediction\", metricName=\"precisionByLabel\")\n",
        "precision_dt_d5 = pr_evaluator_dt_d5.evaluate(dt_predictions_d5)\n",
        "print(\"precision:\"+str(precision_dt_d5))"
      ],
      "metadata": {
        "colab": {
          "base_uri": "https://localhost:8080/",
          "height": 0
        },
        "id": "hZ2D1Qxe5k1u",
        "outputId": "9e3cdc33-dbbe-4d3d-8dd3-e824d5a471ff"
      },
      "execution_count": 40,
      "outputs": [
        {
          "output_type": "stream",
          "name": "stdout",
          "text": [
            "precision:0.6666666666666666\n"
          ]
        }
      ]
    },
    {
      "cell_type": "code",
      "source": [
        "f1_evaluator_dt_d5 = MulticlassClassificationEvaluator( labelCol='indexedLabel', predictionCol=\"prediction\", metricName='f1')\n",
        "f1_d5 = f1_evaluator_dt_d5.evaluate(dt_predictions_d5)\n",
        "print(\"F1 Score:\"+str(f1_d5))"
      ],
      "metadata": {
        "colab": {
          "base_uri": "https://localhost:8080/",
          "height": 0
        },
        "id": "vUN8DvVm5v-L",
        "outputId": "7d086e56-799c-4816-acdd-ad8b9271d746"
      },
      "execution_count": 41,
      "outputs": [
        {
          "output_type": "stream",
          "name": "stdout",
          "text": [
            "F1 Score:0.8626623376623377\n"
          ]
        }
      ]
    },
    {
      "cell_type": "code",
      "source": [
        "rec_evaluator_dt_d5 = MulticlassClassificationEvaluator(labelCol='indexedLabel', predictionCol =\"prediction\", metricName=\"recallByLabel\")\n",
        "rec_d5 =rec_evaluator_dt_d5.evaluate(dt_predictions_d5)\n",
        "print(\"recall: \"+str(rec_d5))"
      ],
      "metadata": {
        "colab": {
          "base_uri": "https://localhost:8080/",
          "height": 0
        },
        "id": "Bf41c4ef6K0k",
        "outputId": "5916f052-eace-4dd5-8811-8ce96f5b4c86"
      },
      "execution_count": 42,
      "outputs": [
        {
          "output_type": "stream",
          "name": "stdout",
          "text": [
            "recall: 1.0\n"
          ]
        }
      ]
    },
    {
      "cell_type": "markdown",
      "source": [
        "1 D"
      ],
      "metadata": {
        "id": "iy9CLm4IFHE8"
      }
    },
    {
      "cell_type": "code",
      "source": [
        "for (trainingData2, testData2) in [data.randomSplit([0.6, 0.4]), data.randomSplit([0.7, 0.3]), data.randomSplit([0.8, 0.2])]:\n",
        "  print('---------------------------------------------------')\n",
        "  for depth in [2,5,10]: \n",
        "    print('for depth: '+str(depth))\n",
        "    dt_t2 = DecisionTreeClassifier( maxDepth=depth,featuresCol=\"indexedFeatures\",labelCol=\"indexedLabel\")\n",
        "    dt_pipeline_t2 = Pipeline(stages=[labelIndexer, featureIndexer, dt_t2])\n",
        "    dt_model_t2 = dt_pipeline_t2.fit(trainingData2)\n",
        "    dt_predictions_t2 = dt_model_t2.transform(testData2)\n",
        "    print(dt_model_t2.stages[2])\n",
        "  \n",
        "    acc_evaluator_dt_t2 = MulticlassClassificationEvaluator(labelCol=\"indexedLabel\", predictionCol=\"prediction\", metricName=\"accuracy\",)\n",
        "    acc_dt_t2 = acc_evaluator_dt.evaluate(dt_predictions_t2)\n",
        "    print(\"accurancy:\"+str(acc_dt_t2))\n",
        "\n",
        "    pr_evaluator_dt_t2 = MulticlassClassificationEvaluator(labelCol=\"indexedLabel\", predictionCol=\"prediction\", metricName=\"precisionByLabel\")\n",
        "    precision_dt_t2 = pr_evaluator_dt_t2.evaluate(dt_predictions_t2)\n",
        "    print(\"precision:\"+str(precision_dt_t2))\n",
        "\n",
        "    f1_evaluator_dt_t2 = MulticlassClassificationEvaluator( labelCol='indexedLabel', predictionCol=\"prediction\", metricName='f1')\n",
        "    f1_t2 = f1_evaluator_dt_t2.evaluate(dt_predictions_t2)\n",
        "    print(\"F1 Score:\"+str(f1_t2))\n",
        "\n",
        "    rec_evaluator_dt_t2 = MulticlassClassificationEvaluator(labelCol='indexedLabel', predictionCol =\"prediction\", metricName=\"recallByLabel\")\n",
        "    rec_t2 =rec_evaluator_dt_d5.evaluate(dt_predictions_t2)\n",
        "    print(\"recall: \"+str(rec_t2))\n",
        "    print()\n"
      ],
      "metadata": {
        "colab": {
          "base_uri": "https://localhost:8080/",
          "height": 0
        },
        "id": "h630EPs0FfeM",
        "outputId": "1dbe4b0e-f710-482a-b1b0-e5c5c9267624"
      },
      "execution_count": 51,
      "outputs": [
        {
          "output_type": "stream",
          "name": "stdout",
          "text": [
            "---------------------------------------------------\n",
            "for depth: 2\n",
            "DecisionTreeClassificationModel: uid=DecisionTreeClassifier_d442d92249ba, depth=2, numNodes=5, numClasses=3, numFeatures=4\n",
            "accurancy:0.9857142857142858\n",
            "precision:1.0\n",
            "F1 Score:0.9856858422811634\n",
            "recall: 0.9523809523809523\n",
            "\n",
            "for depth: 5\n",
            "DecisionTreeClassificationModel: uid=DecisionTreeClassifier_60750e6ad2fe, depth=5, numNodes=17, numClasses=3, numFeatures=4\n",
            "accurancy:0.9857142857142858\n",
            "precision:0.9545454545454546\n",
            "F1 Score:0.9857284229872058\n",
            "recall: 1.0\n",
            "\n",
            "for depth: 10\n",
            "DecisionTreeClassificationModel: uid=DecisionTreeClassifier_702f056f4ef6, depth=5, numNodes=17, numClasses=3, numFeatures=4\n",
            "accurancy:0.9857142857142858\n",
            "precision:0.9545454545454546\n",
            "F1 Score:0.9857284229872058\n",
            "recall: 1.0\n",
            "\n",
            "---------------------------------------------------\n",
            "for depth: 2\n",
            "DecisionTreeClassificationModel: uid=DecisionTreeClassifier_45aa06d89044, depth=2, numNodes=5, numClasses=3, numFeatures=4\n",
            "accurancy:0.9607843137254902\n",
            "precision:0.9047619047619048\n",
            "F1 Score:0.9602564102564104\n",
            "recall: 1.0\n",
            "\n",
            "for depth: 5\n",
            "DecisionTreeClassificationModel: uid=DecisionTreeClassifier_ec18a1e7ed58, depth=3, numNodes=7, numClasses=3, numFeatures=4\n",
            "accurancy:0.9411764705882353\n",
            "precision:0.8636363636363636\n",
            "F1 Score:0.9397991391678622\n",
            "recall: 1.0\n",
            "\n",
            "for depth: 10\n",
            "DecisionTreeClassificationModel: uid=DecisionTreeClassifier_395c6395a2ee, depth=3, numNodes=7, numClasses=3, numFeatures=4\n",
            "accurancy:0.9411764705882353\n",
            "precision:0.8636363636363636\n",
            "F1 Score:0.9397991391678622\n",
            "recall: 1.0\n",
            "\n",
            "---------------------------------------------------\n",
            "for depth: 2\n",
            "DecisionTreeClassificationModel: uid=DecisionTreeClassifier_8276d8c48ac5, depth=2, numNodes=5, numClasses=3, numFeatures=4\n",
            "accurancy:0.9393939393939394\n",
            "precision:0.8888888888888888\n",
            "F1 Score:0.9393939393939394\n",
            "recall: 0.8888888888888888\n",
            "\n",
            "for depth: 5\n",
            "DecisionTreeClassificationModel: uid=DecisionTreeClassifier_89a26a26e14f, depth=5, numNodes=15, numClasses=3, numFeatures=4\n",
            "accurancy:0.9393939393939394\n",
            "precision:0.8888888888888888\n",
            "F1 Score:0.9393939393939394\n",
            "recall: 0.8888888888888888\n",
            "\n",
            "for depth: 10\n",
            "DecisionTreeClassificationModel: uid=DecisionTreeClassifier_b3461689fa59, depth=5, numNodes=15, numClasses=3, numFeatures=4\n",
            "accurancy:0.9393939393939394\n",
            "precision:0.8888888888888888\n",
            "F1 Score:0.9393939393939394\n",
            "recall: 0.8888888888888888\n",
            "\n"
          ]
        }
      ]
    },
    {
      "cell_type": "markdown",
      "source": [
        "Task 2"
      ],
      "metadata": {
        "id": "4aj3V0oEVcts"
      }
    },
    {
      "cell_type": "code",
      "source": [
        "from pyspark.ml.classification import RandomForestClassifier"
      ],
      "metadata": {
        "id": "2_m9R--NVca8"
      },
      "execution_count": 67,
      "outputs": []
    },
    {
      "cell_type": "code",
      "source": [
        "rf = RandomForestClassifier(numTrees=3,featuresCol=\"indexedFeatures\",labelCol=\"indexedLabel\")\n",
        "rf_pipeline = Pipeline(stages=[labelIndexer, featureIndexer, rf])\n",
        "rf_model = rf_pipeline.fit(trainingData)\n",
        "rf_predictions = rf_model.transform(testData)\n",
        "print(rf_model.stages[2])\n",
        "rf_predictions.show(5)"
      ],
      "metadata": {
        "colab": {
          "base_uri": "https://localhost:8080/",
          "height": 0
        },
        "id": "_EIP8OXDVezZ",
        "outputId": "cc630cf3-c5eb-49a3-e04e-ccd85684abb1"
      },
      "execution_count": 68,
      "outputs": [
        {
          "output_type": "stream",
          "name": "stdout",
          "text": [
            "RandomForestClassificationModel: uid=RandomForestClassifier_2151600f7320, numTrees=3, numClasses=3, numFeatures=4\n",
            "+-----+--------------------+------------+--------------------+-------------+-------------+----------+\n",
            "|label|            features|indexedLabel|     indexedFeatures|rawPrediction|  probability|prediction|\n",
            "+-----+--------------------+------------+--------------------+-------------+-------------+----------+\n",
            "|  0.0|(4,[0,1,2,3],[-1....|         0.0|(4,[0,1,2,3],[-1....|[3.0,0.0,0.0]|[1.0,0.0,0.0]|       0.0|\n",
            "|  0.0|(4,[0,1,2,3],[0.1...|         0.0|(4,[0,1,2,3],[0.1...|[3.0,0.0,0.0]|[1.0,0.0,0.0]|       0.0|\n",
            "|  0.0|(4,[0,1,2,3],[0.1...|         0.0|(4,[0,1,2,3],[0.1...|[3.0,0.0,0.0]|[1.0,0.0,0.0]|       0.0|\n",
            "|  0.0|(4,[0,1,2,3],[0.1...|         0.0|(4,[0,1,2,3],[0.1...|[3.0,0.0,0.0]|[1.0,0.0,0.0]|       0.0|\n",
            "|  0.0|(4,[0,1,2,3],[0.3...|         0.0|(4,[0,1,2,3],[0.3...|[3.0,0.0,0.0]|[1.0,0.0,0.0]|       0.0|\n",
            "+-----+--------------------+------------+--------------------+-------------+-------------+----------+\n",
            "only showing top 5 rows\n",
            "\n"
          ]
        }
      ]
    },
    {
      "cell_type": "code",
      "source": [
        "acc_evaluator_rf = MulticlassClassificationEvaluator(labelCol=\"indexedLabel\", predictionCol=\"prediction\", metricName=\"accuracy\",)\n",
        "acc_rf = acc_evaluator_rf.evaluate(rf_predictions)\n",
        "print(\"accurancy:\"+str(acc_rf))"
      ],
      "metadata": {
        "id": "9NrLmoRKav44"
      },
      "execution_count": null,
      "outputs": []
    },
    {
      "cell_type": "code",
      "source": [
        "f_evaluator_rf = MulticlassClassificationEvaluator(labelCol=\"indexedLabel\", predictionCol=\"prediction\", metricName=\"f1\")\n",
        "f1_score_rf = f_evaluator_rf.evaluate(rf_predictions)\n",
        "print(\"f1 score:\"+str(f1_score_rf))"
      ],
      "metadata": {
        "id": "hJxPVOIbawqU"
      },
      "execution_count": null,
      "outputs": []
    },
    {
      "cell_type": "code",
      "source": [
        "pr_evaluator_dt_t2 = MulticlassClassificationEvaluator(labelCol=\"indexedLabel\", predictionCol=\"prediction\", metricName=\"precisionByLabel\")\n",
        "precision_dt_t2 = pr_evaluator_dt_t2.evaluate(dt_predictions_t2)\n",
        "print(\"precision:\"+str(precision_dt_t2))"
      ],
      "metadata": {
        "id": "IS7Ij_E1azDl"
      },
      "execution_count": null,
      "outputs": []
    },
    {
      "cell_type": "code",
      "source": [],
      "metadata": {
        "id": "ksq-UGu2a3Jy"
      },
      "execution_count": null,
      "outputs": []
    }
  ]
}